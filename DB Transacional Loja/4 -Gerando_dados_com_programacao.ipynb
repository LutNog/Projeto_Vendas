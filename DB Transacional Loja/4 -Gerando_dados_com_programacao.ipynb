{
 "cells": [
  {
   "cell_type": "markdown",
   "id": "82935b23-86e3-46f7-80f1-dac0ae66906d",
   "metadata": {},
   "source": [
    "## Gerando dados do E-Commerce com programação."
   ]
  },
  {
   "cell_type": "code",
   "execution_count": 1,
   "id": "55be840b-5cbb-47dd-82d1-b82ab32e0176",
   "metadata": {},
   "outputs": [],
   "source": [
    "# Gerando dados fakers para tabela Cliente\n",
    "\n",
    "import random\n",
    "from faker import Faker\n",
    "import csv\n",
    "\n",
    "# Definir faker para português\n",
    "faker = Faker(\"pt_BR\") \n",
    "\n",
    "# Lista de UFs\n",
    "ufs = [\n",
    "    \"AC\", \"AL\", \"AP\", \"AM\", \"BA\", \"CE\", \"DF\", \"ES\", \"GO\", \"MA\",\n",
    "    \"MT\", \"MS\", \"MG\", \"PA\", \"PB\", \"PR\", \"PE\", \"PI\", \"RJ\", \"RN\",\n",
    "    \"RS\", \"RO\", \"RR\", \"SC\", \"SP\", \"SE\", \"TO\", \"NA\"\n",
    "    ]\n",
    "\n",
    "# Gerar CPF sequencial\n",
    "def gerar_cpf_sequencial(numero):\n",
    "    return f'CPF{numero:05d}'\n",
    "\n",
    "# Gerar Nome sequencial\n",
    "def gerar_nome_sequencial(numero):\n",
    "    return f'Nome{numero:05d}'\n",
    "\n",
    "def gerar_cliente(quantidade):\n",
    "    clientes = []\n",
    "    for i in range(1, quantidade):\n",
    "        nome = gerar_nome_sequencial(i)\n",
    "        cpf = gerar_cpf_sequencial(i)\n",
    "        data_nascimento = faker.date_of_birth(minimum_age=18, maximum_age=64).strftime('%d-%m-%Y')\n",
    "        uf = random.choice(ufs)\n",
    "        \n",
    "        clientes.append({\n",
    "            \"ID_Cliente\": i,\n",
    "            \"Nome\": nome,\n",
    "            \"CPF\": cpf,\n",
    "            \"Data_Nascimento\": data_nascimento,\n",
    "            \"UF\" : uf\n",
    "        })\n",
    "        \n",
    "    return clientes\n",
    "\n",
    "def salvar_dados_csv(dados, nome_arquivo):\n",
    "    with open(nome_arquivo, mode='w', newline='', encoding='utf-8') as file:\n",
    "        writer = csv.DictWriter(file, fieldnames=['ID_Cliente', 'Nome', 'CPF', 'Data_Nascimento', 'UF'])\n",
    "        writer.writeheader()\n",
    "        for dado in dados:\n",
    "            writer.writerow(dado)"
   ]
  },
  {
   "cell_type": "code",
   "execution_count": 2,
   "id": "e8044975-cfea-490e-971e-bb35cdd14c64",
   "metadata": {},
   "outputs": [],
   "source": [
    "# Gerando dados\n",
    "cliente = gerar_cliente(50001)\n",
    "salvar_dados_csv(cliente, \"Clientes\")"
   ]
  },
  {
   "cell_type": "code",
   "execution_count": 19,
   "id": "0fad43e8-d060-48d6-ab23-66963c61b1a5",
   "metadata": {},
   "outputs": [],
   "source": [
    "# Gerando dados fakers para tabela Engajamento\n",
    "\n",
    "import random\n",
    "import csv\n",
    "\n",
    "# Iterando Id Produto e Id Canal para gerar numéros aleatórios\n",
    "produtos = []\n",
    "i = 1\n",
    "for produto in range (1, 8):\n",
    "    for canal in range(1, 3):\n",
    "        Visualizacoes = random.randint(5000,100000)\n",
    "        Comentarios  = random.randint(0, 5000)\n",
    "        Curtidas  = random.randint(0, 50000)\n",
    "        Compartilhamentos = random.randint(0, 5000)\n",
    "        produtos.append({\n",
    "            \"ID_Engajamento\": i,\n",
    "            \"Produto\": produto,\n",
    "            \"Canal\" : canal,\n",
    "            \"Visualizações\": Visualizacoes,\n",
    "            \"Comentários\": Comentarios,\n",
    "            \"Curtidas\": Curtidas,\n",
    "            \"Compartilhamentos\" : Compartilhamentos\n",
    "        })\n",
    "        \n",
    "        i += 1\n",
    "        \n",
    "def salvar_dados_csv(dados, nome_arquivo):\n",
    "    with open(nome_arquivo, mode='w', newline='', encoding='utf-8') as file:\n",
    "        writer = csv.DictWriter(file, fieldnames=['ID_Engajamento', 'Visualizações', 'Comentários', 'Curtidas', 'Compartilhamentos', 'Canal', 'Produto'])\n",
    "        writer.writeheader()\n",
    "        for dado in dados:\n",
    "            writer.writerow(dado)"
   ]
  },
  {
   "cell_type": "code",
   "execution_count": 20,
   "id": "2ca88b3a-8343-4bc2-ace2-3f9d938905c5",
   "metadata": {
    "tags": []
   },
   "outputs": [],
   "source": [
    "# Gerando dados\n",
    "salvar_dados_csv(produtos, \"Engajamento\")"
   ]
  },
  {
   "cell_type": "code",
   "execution_count": 43,
   "id": "dd276fb1-b5f2-44a7-a4ba-9f61e82805e6",
   "metadata": {
    "tags": []
   },
   "outputs": [],
   "source": [
    "# Gerando dados fakers para tabela Transações\n",
    "\n",
    "import random\n",
    "import csv\n",
    "from datetime import datetime, timedelta\n",
    "\n",
    "# Função para gerar uma data aleatória entre 2020 e 2023\n",
    "def gerar_data_aleatoria():\n",
    "    start_date = datetime(2020, 1, 1)\n",
    "    end_date = datetime(2023, 12, 31)\n",
    "    delta = end_date - start_date\n",
    "    random_days = random.randint(0, delta.days)\n",
    "    random_date = start_date + timedelta(days=random_days)\n",
    "    return random_date.strftime('%d-%m-%Y')\n",
    "\n",
    "def transacoes(num_cliente, max_compra):\n",
    "    dados = []\n",
    "    iteracao = 1\n",
    "    for cliente in range(1, num_cliente):\n",
    "        num_compras = random.randint(0, max_compra) # iterando a quantidade de transações que pode ser 0 incluse até o total informado)\n",
    "        for _ in range(num_compras):\n",
    "            data_venda = gerar_data_aleatoria()\n",
    "            feedback = random.randint(1, 5)\n",
    "            id_pagamento = random.randint(1,4)\n",
    "            id_canal = random.randint(1,7)\n",
    "            id_promocao = random.choice([1,1,1,2,3])\n",
    "            \n",
    "            if id_canal == 1 or id_canal == 2:\n",
    "                id_vendedor = random.randint(11, 12)\n",
    "            else:\n",
    "                id_vendedor = random.randint(1, 10)\n",
    "            \n",
    "            dados.append({\n",
    "                \"ID_Transação\": iteracao,\n",
    "                \"Data_Venda\": data_venda,\n",
    "                \"Feedback\": feedback,\n",
    "                \"ID_Cliente\": cliente,\n",
    "                \"ID_Pagamento\": id_pagamento,\n",
    "                \"ID_Canal\": id_canal,\n",
    "                \"ID_Promoção\": id_promocao,\n",
    "                \"ID_Vendedor\": id_vendedor\n",
    "            })\n",
    "            iteracao += 1 \n",
    "    return dados\n",
    "            \n",
    "def salvar_dados_csv(dados, nome_arquivo):\n",
    "    with open(nome_arquivo, mode='w', newline='', encoding='utf-8') as file:\n",
    "        writer = csv.DictWriter(file, fieldnames=[\"ID_Transação\", 'Data_Venda', 'Feedback', 'ID_Cliente', 'ID_Pagamento', 'ID_Canal', 'ID_Promoção', 'ID_Vendedor'])\n",
    "        writer.writeheader()\n",
    "        for dado in dados:\n",
    "            writer.writerow(dado)"
   ]
  },
  {
   "cell_type": "code",
   "execution_count": 44,
   "id": "949e1674-850a-4940-9408-cdde89ac6282",
   "metadata": {
    "tags": []
   },
   "outputs": [],
   "source": [
    "# Gerando dados\n",
    "transacoes = transacoes(50001,5)\n",
    "salvar_dados_csv(transacoes, \"Transacoes\")"
   ]
  },
  {
   "cell_type": "code",
   "execution_count": 45,
   "id": "e424c4f5-4788-41d1-8c94-2cb7c005f5cf",
   "metadata": {
    "tags": []
   },
   "outputs": [],
   "source": [
    "# Gerando dados fakers para tabela Transações de Produtos\n",
    "\n",
    "import random\n",
    "import csv\n",
    "\n",
    "def trans_prod(transacoes):\n",
    "    dados = []\n",
    "    for i in range(1, transacoes):\n",
    "        quantidade = random.randint(1,5)\n",
    "        id_produto = random.randint(1, 7)\n",
    "        \n",
    "        dados.append({\n",
    "            \"Quantidade\": quantidade,\n",
    "            \"ID_Produto\": id_produto,\n",
    "            \"ID_Transação\": i\n",
    "        })\n",
    "    return dados\n",
    "\n",
    "def salvar_dados_csv(dados, nome_arquivo):\n",
    "    with open(nome_arquivo, mode='w', newline='', encoding='utf-8') as file:\n",
    "        writer = csv.DictWriter(file, fieldnames=['Quantidade', 'ID_Produto', 'ID_Transação'])\n",
    "        writer.writeheader()\n",
    "        for dado in dados:\n",
    "            writer.writerow(dado)"
   ]
  },
  {
   "cell_type": "code",
   "execution_count": 46,
   "id": "90d671c3-98ff-4325-9bbe-b824d7170b42",
   "metadata": {},
   "outputs": [],
   "source": [
    "# Gerando dados\n",
    "transacoes = trans_prod(124931)\n",
    "salvar_dados_csv(transacoes, \"Transacoes_prod\")"
   ]
  }
 ],
 "metadata": {
  "kernelspec": {
   "display_name": "Python 3 (ipykernel)",
   "language": "python",
   "name": "python3"
  },
  "language_info": {
   "codemirror_mode": {
    "name": "ipython",
    "version": 3
   },
   "file_extension": ".py",
   "mimetype": "text/x-python",
   "name": "python",
   "nbconvert_exporter": "python",
   "pygments_lexer": "ipython3",
   "version": "3.11.5"
  }
 },
 "nbformat": 4,
 "nbformat_minor": 5
}
